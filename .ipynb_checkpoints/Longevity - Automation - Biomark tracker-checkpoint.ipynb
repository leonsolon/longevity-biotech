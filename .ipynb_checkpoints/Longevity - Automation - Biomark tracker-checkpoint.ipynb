{
 "cells": [
  {
   "cell_type": "markdown",
   "id": "7b2206a5",
   "metadata": {},
   "source": [
    "# <a>Longevity InTime BioTech - Biomark Tracker<a/>\n",
    "    \n",
    "This notebook performs searches in the [PubMed website](https://pubmed.ncbi.nlm.nih.gov/) for diseases and the respective biomarkers.\n",
    "    \n",
    "The list of biomarkers was extracted from [here](http://www.cirion.com/DirectDownload.aspx?nav_id=714&lang_id=E)\n",
    "    \n",
    "Once the methodology for the extraction is validated, with better biomarkers list, one could create a simple application using Streamlit of Flask (both with Python backend) to have a functional system ready to production"
   ]
  },
  {
   "cell_type": "code",
   "execution_count": 1,
   "id": "f97c7602",
   "metadata": {},
   "outputs": [],
   "source": [
    "from bs4 import BeautifulSoup\n",
    "import pandas as pd\n",
    "import re\n",
    "import requests"
   ]
  },
  {
   "cell_type": "code",
   "execution_count": 2,
   "id": "df7ccc3f",
   "metadata": {},
   "outputs": [
    {
     "data": {
      "text/html": [
       "<div>\n",
       "<style scoped>\n",
       "    .dataframe tbody tr th:only-of-type {\n",
       "        vertical-align: middle;\n",
       "    }\n",
       "\n",
       "    .dataframe tbody tr th {\n",
       "        vertical-align: top;\n",
       "    }\n",
       "\n",
       "    .dataframe thead th {\n",
       "        text-align: right;\n",
       "    }\n",
       "</style>\n",
       "<table border=\"1\" class=\"dataframe\">\n",
       "  <thead>\n",
       "    <tr style=\"text-align: right;\">\n",
       "      <th></th>\n",
       "      <th>adrenal corticotrophic hormone (acth)</th>\n",
       "    </tr>\n",
       "  </thead>\n",
       "  <tbody>\n",
       "    <tr>\n",
       "      <th>0</th>\n",
       "      <td>alkaline phosphatase (alp)</td>\n",
       "    </tr>\n",
       "    <tr>\n",
       "      <th>1</th>\n",
       "      <td>alpha-foetoprotein</td>\n",
       "    </tr>\n",
       "    <tr>\n",
       "      <th>2</th>\n",
       "      <td>alpha-gst</td>\n",
       "    </tr>\n",
       "    <tr>\n",
       "      <th>3</th>\n",
       "      <td>aminoterminal propeptide type 1 collagen</td>\n",
       "    </tr>\n",
       "    <tr>\n",
       "      <th>4</th>\n",
       "      <td>anti hbs</td>\n",
       "    </tr>\n",
       "  </tbody>\n",
       "</table>\n",
       "</div>"
      ],
      "text/plain": [
       "      adrenal corticotrophic hormone (acth)\n",
       "0                alkaline phosphatase (alp)\n",
       "1                        alpha-foetoprotein\n",
       "2                                 alpha-gst\n",
       "3  aminoterminal propeptide type 1 collagen\n",
       "4                                  anti hbs"
      ]
     },
     "execution_count": 2,
     "metadata": {},
     "output_type": "execute_result"
    }
   ],
   "source": [
    "list_biomarkers = pd.read_csv('./data/raw/biomarkers.csv')\n",
    "\n",
    "list_biomarkers.head()"
   ]
  },
  {
   "cell_type": "code",
   "execution_count": 3,
   "id": "33c4da3e",
   "metadata": {},
   "outputs": [],
   "source": [
    "def return_biomarkers_for_disease(biomarker_list, disease, start_date, end_date, pages):\n",
    "    main_url = 'https://pubmed.ncbi.nlm.nih.gov/?term={}&filter=years.{}-{}&format=abstract&size={}'\n",
    "    \n",
    "    search_disease = disease.replace(\" \", \"+\")\n",
    "    \n",
    "    # Send first request\n",
    "    req = requests.get(main_url.format(search_disease, str(start_date), str(end_date), pages),\n",
    "                       headers={'User-Agent': 'Mozilla/5.0'})\n",
    "    \n",
    "    search_page = req.text\n",
    "    \n",
    "    soup = BeautifulSoup(search_page, 'html.parser')\n",
    "    \n",
    "    abstracts = soup.find_all('div', {\"class\": \"abstract\"} )\n",
    "    \n",
    "    result = dict((biomarker,0) for biomarker in biomarker_list)\n",
    "    \n",
    "    for biomarker in result.keys():\n",
    "        for abstract in abstracts:\n",
    "            abstract = str(abstract).lower().split()\n",
    "            result[biomarker] += abstract.count(biomarker)\n",
    "    \n",
    "    return [(biomarker, count) for biomarker, count in result.items() if count > 0]\n",
    "    "
   ]
  },
  {
   "cell_type": "code",
   "execution_count": 4,
   "id": "def1b3c4",
   "metadata": {},
   "outputs": [
    {
     "data": {
      "text/plain": [
       "\"Biomarkers for diabetes mellitus: [('glucose', 2), ('insulin', 1)]\""
      ]
     },
     "execution_count": 4,
     "metadata": {},
     "output_type": "execute_result"
    }
   ],
   "source": [
    "disease = 'diabetes mellitus'\n",
    "biomarkers_disease = return_biomarkers_for_disease(list_biomarkers.values.flatten(), disease, 2020, 2022, 10)\n",
    "\n",
    "f'Biomarkers for {disease}: {biomarkers_disease}'"
   ]
  },
  {
   "cell_type": "code",
   "execution_count": 5,
   "id": "8a2f19ba",
   "metadata": {},
   "outputs": [
    {
     "data": {
      "text/plain": [
       "\"Biomarkers for pneumonia: [('hiv', 1)]\""
      ]
     },
     "execution_count": 5,
     "metadata": {},
     "output_type": "execute_result"
    }
   ],
   "source": [
    "disease = 'pneumonia'\n",
    "biomarkers_disease = return_biomarkers_for_disease(list_biomarkers.values.flatten(), disease, 2020, 2022, 50)\n",
    "\n",
    "f'Biomarkers for {disease}: {biomarkers_disease}'"
   ]
  },
  {
   "cell_type": "code",
   "execution_count": null,
   "id": "1b8c0da6",
   "metadata": {},
   "outputs": [],
   "source": []
  },
  {
   "cell_type": "code",
   "execution_count": null,
   "id": "6fecf479",
   "metadata": {},
   "outputs": [],
   "source": []
  }
 ],
 "metadata": {
  "kernelspec": {
   "display_name": "Python 3 (ipykernel)",
   "language": "python",
   "name": "python3"
  },
  "language_info": {
   "codemirror_mode": {
    "name": "ipython",
    "version": 3
   },
   "file_extension": ".py",
   "mimetype": "text/x-python",
   "name": "python",
   "nbconvert_exporter": "python",
   "pygments_lexer": "ipython3",
   "version": "3.9.0"
  }
 },
 "nbformat": 4,
 "nbformat_minor": 5
}
